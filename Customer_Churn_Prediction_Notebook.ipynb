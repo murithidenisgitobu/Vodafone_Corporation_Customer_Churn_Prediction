{
 "cells": [
  {
   "cell_type": "markdown",
   "metadata": {},
   "source": [
    "#   Business Understanding"
   ]
  },
  {
   "cell_type": "markdown",
   "metadata": {},
   "source": [
    "## Introduction"
   ]
  },
  {
   "cell_type": "markdown",
   "metadata": {},
   "source": [
    "**Understanding Customer Attrition**\n",
    "\n",
    "Customer attrition, also known as churn or turnover, refers to the percentage of customers who stop using a company's product or service within a certain period.\n",
    "\n",
    "For instance, if a company begins the year with 500 customers but ends with only 480, the churn rate is 4%. Predicting why and when customers leave can significantly help organizations strategize retention efforts.\n",
    "\n",
    "**Project Goal**\n",
    "\n",
    "This project aims to:\n",
    "- Determine the likelihood of customer churn\n",
    "- Identify key indicators of churn\n",
    "- Propose effective retention strategies to mitigate customer attrition.\n"
   ]
  },
  {
   "cell_type": "markdown",
   "metadata": {},
   "source": [
    "## Problem Statement\n",
    "\n",
    "Telecommunication companies (telcos) like Vodafone Corporation encounter a common issue known as customer churn, where customers discontinue their services. Addressing this challenge requires telcos to anticipate which customers are likely to churn and implement proactive strategies to retain them. Machine learning models offer a solution by predicting potential churners based on factors such as usage patterns, payment history, and demographic data.\n"
   ]
  },
  {
   "cell_type": "markdown",
   "metadata": {},
   "source": [
    "## Columns and their Description"
   ]
  },
  {
   "cell_type": "markdown",
   "metadata": {},
   "source": [
    "| Column            | Description                                                         |\n",
    "|-------------------|---------------------------------------------------------------------|\n",
    "| Gender            | Whether the customer is a male or a female                          |\n",
    "| SeniorCitizen     | Whether a customer is a senior citizen or not                       |\n",
    "| Partner           | Whether the customer has a partner or not (Yes, No)                 |\n",
    "| Dependents        | Whether the customer has dependents or not (Yes, No)                |\n",
    "| Tenure            | Number of months the customer has stayed with the company          |\n",
    "| Phone Service     | Whether the customer has a phone service or not (Yes, No)           |\n",
    "| MultipleLines     | Whether the customer has multiple lines or not                      |\n",
    "| InternetService   | Customer's internet service provider (DSL, Fiber Optic, No)        |\n",
    "| OnlineSecurity    | Whether the customer has online security or not (Yes, No, No Internet) |\n",
    "| OnlineBackup      | Whether the customer has online backup or not (Yes, No, No Internet) |\n",
    "| DeviceProtection  | Whether the customer has device protection or not (Yes, No, No internet service) |\n",
    "| TechSupport       | Whether the customer has tech support or not (Yes, No, No internet) |\n",
    "| StreamingTV       | Whether the customer has streaming TV or not (Yes, No, No internet service) |\n",
    "| StreamingMovies   | Whether the customer has streaming movies or not (Yes, No, No Internet service) |\n",
    "| Contract          | The contract term of the customer (Month-to-Month, One year, Two year) |\n",
    "| PaperlessBilling  | Whether the customer has paperless billing or not (Yes, No)        |\n",
    "| Payment Method    | The customer's payment method (Electronic check, mailed check, Bank transfer(automatic), Credit card(automatic)) |\n",
    "| MonthlyCharges    | The amount charged to the customer monthly                          |\n",
    "| TotalCharges      | The total amount charged to the customer                            |\n",
    "| Churn             | Whether the customer churned or not (Yes or No)                     |\n"
   ]
  },
  {
   "cell_type": "code",
   "execution_count": 25,
   "metadata": {},
   "outputs": [],
   "source": [
    "# Import libraries\n",
    "from dotenv import dotenv_values\n",
    "import warnings\n",
    "warnings.filterwarnings('ignore')\n",
    "import pyodbc\n",
    "import pandas as pd\n",
    "import numpy as np\n",
    "import matplotlib.pyplot as plt\n",
    "import seaborn as sns\n",
    "import plotly.express as px"
   ]
  },
  {
   "cell_type": "code",
   "execution_count": 26,
   "metadata": {},
   "outputs": [],
   "source": [
    "# Load environment variables from .env file into a dictionary\n",
    "environment_variables = dotenv_values('.env')\n",
    "\n",
    "# Get the values for the credentials you set in the '.env' file\n",
    "server = environment_variables.get(\"SERVER\")\n",
    "database = environment_variables.get(\"DATABASE\")\n",
    "username = environment_variables.get(\"USERNAME\")\n",
    "password = environment_variables.get(\"PASSWORD\")"
   ]
  },
  {
   "cell_type": "code",
   "execution_count": 27,
   "metadata": {},
   "outputs": [],
   "source": [
    "# Create a connection with the remote databse\n",
    "connection_string = f\"DRIVER={{SQL Server}};SERVER={server};DATABASE={database};UID={username};PWD={password}\"\n",
    "connection = pyodbc.connect(connection_string)"
   ]
  },
  {
   "cell_type": "code",
   "execution_count": 30,
   "metadata": {},
   "outputs": [],
   "source": [
    "# load first dataset\n",
    "# Load database churn data from the database\n",
    "churn_data1=\"SELECT * FROM dbo.LP2_Telco_churn_first_3000\"\n",
    "churn_data1=pd.read_sql(churn_data1,connection)\n",
    "\n",
    "# Save database churn data to a csv file\n",
    "file_name='churn_data1.csv'\n",
    "churn_data1.to_csv(file_name,index=False)"
   ]
  },
  {
   "cell_type": "code",
   "execution_count": 31,
   "metadata": {},
   "outputs": [],
   "source": [
    "# load second dataset from a GitHub Repository\n",
    "# The data is saved in a csv file\n",
    "churn_data2=pd.read_csv('Vodafone_Churn_data\\LP2_Telco-churn-second-2000.csv')"
   ]
  },
  {
   "cell_type": "code",
   "execution_count": 35,
   "metadata": {},
   "outputs": [],
   "source": [
    "# load the third dataset saved in OneDrive.\n",
    "# This dataset will be used as the testing dataset\n",
    "churn_data3=pd.read_excel('Vodafone_Churn_data\\Telco-churn-last-2000.xlsx')"
   ]
  }
 ],
 "metadata": {
  "kernelspec": {
   "display_name": ".venv",
   "language": "python",
   "name": "python3"
  },
  "language_info": {
   "codemirror_mode": {
    "name": "ipython",
    "version": 3
   },
   "file_extension": ".py",
   "mimetype": "text/x-python",
   "name": "python",
   "nbconvert_exporter": "python",
   "pygments_lexer": "ipython3",
   "version": "3.11.6"
  }
 },
 "nbformat": 4,
 "nbformat_minor": 2
}
